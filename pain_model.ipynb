{
 "cells": [
  {
   "cell_type": "code",
   "execution_count": 69,
   "metadata": {},
   "outputs": [
    {
     "name": "stdout",
     "output_type": "stream",
     "text": [
      "Requirement already satisfied: opencv-python in /mnt/sphere/home/rraina/.local/lib/python3.8/site-packages (4.6.0.66)\n",
      "Requirement already satisfied: numpy>=1.14.5; python_version >= \"3.7\" in /mnt/sphere/home/rraina/.local/lib/python3.8/site-packages (from opencv-python) (1.19.5)\n",
      "Requirement already satisfied: torchvision in /mnt/sphere/home/rraina/.local/lib/python3.8/site-packages (0.12.0)\n",
      "Requirement already satisfied: pillow!=8.3.*,>=5.3.0 in /usr/lib/python3/dist-packages (from torchvision) (7.0.0)\n",
      "Requirement already satisfied: numpy in /mnt/sphere/home/rraina/.local/lib/python3.8/site-packages (from torchvision) (1.19.5)\n",
      "Requirement already satisfied: torch==1.11.0 in /mnt/sphere/home/rraina/.local/lib/python3.8/site-packages (from torchvision) (1.11.0)\n",
      "Requirement already satisfied: requests in /mnt/sphere/home/rraina/.local/lib/python3.8/site-packages (from torchvision) (2.27.1)\n",
      "Requirement already satisfied: typing-extensions in /mnt/sphere/home/rraina/.local/lib/python3.8/site-packages (from torchvision) (3.7.4.3)\n",
      "Requirement already satisfied: idna<4,>=2.5; python_version >= \"3\" in /usr/lib/python3/dist-packages (from requests->torchvision) (2.8)\n",
      "Requirement already satisfied: charset-normalizer~=2.0.0; python_version >= \"3\" in /mnt/sphere/home/rraina/.local/lib/python3.8/site-packages (from requests->torchvision) (2.0.12)\n",
      "Requirement already satisfied: certifi>=2017.4.17 in /usr/lib/python3/dist-packages (from requests->torchvision) (2019.11.28)\n",
      "Requirement already satisfied: urllib3<1.27,>=1.21.1 in /usr/lib/python3/dist-packages (from requests->torchvision) (1.25.8)\n",
      "Requirement already satisfied: torchfile in /mnt/sphere/home/rraina/.local/lib/python3.8/site-packages (0.1.0)\n"
     ]
    }
   ],
   "source": [
    "!pip install opencv-python\n",
    "!pip install torchvision \n",
    "!pip install torchfile \n",
    "\n",
    "import cv2\n",
    "import torch\n",
    "import torch.nn as nn\n",
    "import torch.nn.functional as F\n",
    "import torchfile\n",
    "from torchvision import datasets, models, transforms\n",
    "from torchvision.io import read_image\n",
    "from matplotlib import pyplot as plt\n",
    "import numpy as np\n",
    "import torch.optim as optim"
   ]
  },
  {
   "cell_type": "code",
   "execution_count": 216,
   "metadata": {},
   "outputs": [],
   "source": [
    "class VGG_16(nn.Module):\n",
    "    \"\"\"\n",
    "    Main Class\n",
    "    \"\"\"\n",
    "\n",
    "    def __init__(self):\n",
    "        \"\"\"\n",
    "        Constructor\n",
    "        \"\"\"\n",
    "        super(VGG_16, self).__init__()\n",
    "        self.block_size = [2, 2, 3, 3, 3]\n",
    "        self.conv_1_1 = nn.Conv2d(3, 64, 3, stride=1, padding=1)\n",
    "        self.conv_1_2 = nn.Conv2d(64, 64, 3, stride=1, padding=1)\n",
    "        self.conv_2_1 = nn.Conv2d(64, 128, 3, stride=1, padding=1)\n",
    "        self.conv_2_2 = nn.Conv2d(128, 128, 3, stride=1, padding=1)\n",
    "        self.conv_3_1 = nn.Conv2d(128, 256, 3, stride=1, padding=1)\n",
    "        self.conv_3_2 = nn.Conv2d(256, 256, 3, stride=1, padding=1)\n",
    "        self.conv_3_3 = nn.Conv2d(256, 256, 3, stride=1, padding=1)\n",
    "        self.conv_4_1 = nn.Conv2d(256, 512, 3, stride=1, padding=1)\n",
    "        self.conv_4_2 = nn.Conv2d(512, 512, 3, stride=1, padding=1)\n",
    "        self.conv_4_3 = nn.Conv2d(512, 512, 3, stride=1, padding=1)\n",
    "        self.conv_5_1 = nn.Conv2d(512, 512, 3, stride=1, padding=1)\n",
    "        self.conv_5_2 = nn.Conv2d(512, 512, 3, stride=1, padding=1)\n",
    "        self.conv_5_3 = nn.Conv2d(512, 512, 3, stride=1, padding=1)\n",
    "        self.fc6 = nn.Linear(512 * 7 * 7, 4096)\n",
    "        self.dropout6 = nn.Dropout(p=0.5)\n",
    "        self.fc7 = nn.Linear(4096, 4096)\n",
    "        self.dropout7 = nn.Dropout(p=0.5)\n",
    "        self.fc8 = nn.Linear(4096, 2622)\n",
    "\n",
    "    # path was \"./../../VGG_FACE.t7\"\n",
    "    def load_weights(self, path=\"/mnt/cube/projects/xiaojing/VGG_FACE.t7\"):\n",
    "        \"\"\" Function to load luatorch weights\n",
    "        Args:\n",
    "            path: path for the luatorch weights\n",
    "        \"\"\"\n",
    "        model = torchfile.load(path)\n",
    "        counter = 1\n",
    "        block = 1\n",
    "        for i, layer in enumerate(model.modules):\n",
    "            if hasattr(layer, \"weight\") and layer.weight is not None:\n",
    "                if block <= 5:\n",
    "                    self_layer = getattr(self, \"conv_%d_%d\" % (block, counter))\n",
    "                    counter += 1\n",
    "                    if counter > self.block_size[block - 1]:\n",
    "                        counter = 1\n",
    "                        block += 1\n",
    "                    self_layer.weight.data[...] = torch.from_numpy(layer.weight).view_as(self_layer.weight)[...]\n",
    "                    self_layer.bias.data[...] = torch.from_numpy(layer.bias).view_as(self_layer.bias)[...]\n",
    "                else:\n",
    "                    self_layer = getattr(self, \"fc%d\" % (block))\n",
    "                    block += 1\n",
    "                    self_layer.weight.data[...] = torch.from_numpy(layer.weight).view_as(self_layer.weight)[...]\n",
    "                    self_layer.bias.data[...] = torch.from_numpy(layer.bias).view_as(self_layer.bias)[...]\n",
    "\n",
    "    def forward(self, x):\n",
    "        \"\"\" Pytorch forward\n",
    "        Args:\n",
    "            x: input image (224x224)\n",
    "        Returns: class logits\n",
    "        \"\"\"\n",
    "        x = F.relu(self.conv_1_1(x))\n",
    "        x = F.relu(self.conv_1_2(x))\n",
    "        x = F.max_pool2d(x, 2, 2)\n",
    "        x = F.relu(self.conv_2_1(x))\n",
    "        x = F.relu(self.conv_2_2(x))\n",
    "        x = F.max_pool2d(x, 2, 2)\n",
    "        x = F.relu(self.conv_3_1(x))\n",
    "        x = F.relu(self.conv_3_2(x))\n",
    "        x = F.relu(self.conv_3_3(x))\n",
    "        x = F.max_pool2d(x, 2, 2)\n",
    "        x = F.relu(self.conv_4_1(x))\n",
    "        x = F.relu(self.conv_4_2(x))\n",
    "        x = F.relu(self.conv_4_3(x))\n",
    "        x = F.max_pool2d(x, 2, 2)\n",
    "        x = F.relu(self.conv_5_1(x))\n",
    "        x = F.relu(self.conv_5_2(x))\n",
    "        x = F.relu(self.conv_5_3(x))\n",
    "        x = F.max_pool2d(x, 2, 2)\n",
    "        x = x.view(x.size(0), -1)\n",
    "        x = F.relu(self.fc6(x))\n",
    "        x = self.dropout6(x)\n",
    "        x = F.relu(self.fc7(x))\n",
    "        x = self.dropout7(x)\n",
    "        return self.fc8(x)"
   ]
  },
  {
   "cell_type": "code",
   "execution_count": 217,
   "metadata": {},
   "outputs": [],
   "source": [
    "model = VGG_16()\n",
    "model.load_weights()"
   ]
  },
  {
   "cell_type": "code",
   "execution_count": 219,
   "metadata": {},
   "outputs": [],
   "source": [
    "num_classes = 10\n",
    "\n",
    "num_ftrs = model.fc8.in_features\n",
    "model.fc8 = nn.Linear(num_ftrs, num_classes)\n",
    "input_size = 224"
   ]
  },
  {
   "cell_type": "code",
   "execution_count": 237,
   "metadata": {},
   "outputs": [],
   "source": [
    "val_transform = transforms.Compose([\n",
    "            # BGR2RGB(),\n",
    "            transforms.ToPILImage(),\n",
    "            transforms.Resize(256),\n",
    "            transforms.CenterCrop(224),\n",
    "            transforms.ToTensor(),\n",
    "            transforms.Normalize([0.3873985 , 0.42637664, 0.53720075], [0.2046528 , 0.19909547, 0.19015081])\n",
    "            ])"
   ]
  },
  {
   "cell_type": "code",
   "execution_count": 238,
   "metadata": {},
   "outputs": [
    {
     "name": "stderr",
     "output_type": "stream",
     "text": [
      "Clipping input data to the valid range for imshow with RGB data ([0..1] for floats or [0..255] for integers).\n"
     ]
    },
    {
     "data": {
      "image/png": "[encoded data removed]",
      "text/plain": [
       "<Figure size 432x288 with 1 Axes>"
      ]
     },
     "metadata": {
      "needs_background": "light"
     },
     "output_type": "display_data"
    }
   ],
   "source": [
    "img = read_image('data/vgg_face_matconvnet/ak.jpg')\n",
    "img = val_transform(img)\n",
    "plt.imshow(img.permute(1, 2, 0))\n",
    "\n",
    "img = img.unsqueeze(0)"
   ]
  },
  {
   "cell_type": "code",
   "execution_count": 239,
   "metadata": {},
   "outputs": [],
   "source": [
    "outputs = model(img) * torch.FloatTensor([16] + [5]*9)"
   ]
  },
  {
   "cell_type": "code",
   "execution_count": 240,
   "metadata": {},
   "outputs": [
    {
     "data": {
      "text/plain": [
       "tensor([7])"
      ]
     },
     "execution_count": 240,
     "metadata": {},
     "output_type": "execute_result"
    }
   ],
   "source": [
    "preds = F.softmax(outputs, -1)\n",
    "values, indices = preds.max(-1)\n",
    "indices"
   ]
  },
  {
   "cell_type": "code",
   "execution_count": null,
   "metadata": {},
   "outputs": [],
   "source": []
  }
 ],
 "metadata": {
  "kernelspec": {
   "display_name": "Python 3.8.10 64-bit",
   "language": "python",
   "name": "python3"
  },
  "language_info": {
   "codemirror_mode": {
    "name": "ipython",
    "version": 3
   },
   "file_extension": ".py",
   "mimetype": "text/x-python",
   "name": "python",
   "nbconvert_exporter": "python",
   "pygments_lexer": "ipython3",
   "version": "3.8.10"
  },
  "orig_nbformat": 4,
  "vscode": {
   "interpreter": {
    "hash": "31f2aee4e71d21fbe5cf8b01ff0e069b9275f58929596ceb00d14d90e3e16cd6"
   }
  }
 },
 "nbformat": 4,
 "nbformat_minor": 2
}
